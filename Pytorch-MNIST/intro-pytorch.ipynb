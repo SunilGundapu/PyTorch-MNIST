{
 "cells": [
  {
   "cell_type": "markdown",
   "metadata": {},
   "source": [
    "# Intro to PyTorch"
   ]
  },
  {
   "cell_type": "markdown",
   "metadata": {},
   "source": [
    "### Setting it up\n",
    "Installation: Visit https://pytorch.org/ and Navigate to Quick Start <br>\n",
    "Tutorials: https://pytorch.org/tutorials/"
   ]
  },
  {
   "cell_type": "markdown",
   "metadata": {},
   "source": [
    "## PyTorch\n",
    "A python package that provides:\n",
    "- Tensor computation (like numpy) with strong GPU acceleration\n",
    "- Deep Neural Networks built on autodiff system"
   ]
  },
  {
   "cell_type": "code",
   "execution_count": 2,
   "metadata": {},
   "outputs": [
    {
     "name": "stdout",
     "output_type": "stream",
     "text": [
      "1.3.0+cpu\n"
     ]
    }
   ],
   "source": [
    "import torch\n",
    "print(torch.__version__)"
   ]
  },
  {
   "cell_type": "markdown",
   "metadata": {},
   "source": [
    "### Important Packages\n",
    "![alt text](images/torch-pkg.png)"
   ]
  },
  {
   "cell_type": "markdown",
   "metadata": {},
   "source": [
    "### Tensor\n",
    "\n",
    "Nd Arrays<br>\n",
    "![alt text](images/tensors.png)"
   ]
  },
  {
   "cell_type": "code",
   "execution_count": 3,
   "metadata": {},
   "outputs": [
    {
     "name": "stdout",
     "output_type": "stream",
     "text": [
      "tensor([[1., 2.],\n",
      "        [3., 4.]])\n",
      "torch.Size([2, 2])\n",
      "torch.float32\n"
     ]
    }
   ],
   "source": [
    "a = torch.tensor([[1,2.0],[3,4]])\n",
    "print(a)\n",
    "print(a.size())\n",
    "print(a.dtype)"
   ]
  },
  {
   "cell_type": "code",
   "execution_count": 4,
   "metadata": {},
   "outputs": [
    {
     "name": "stdout",
     "output_type": "stream",
     "text": [
      "tensor([[0.3566, 0.9426, 0.9052, 0.1622],\n",
      "        [0.4921, 0.1280, 0.1739, 0.5581],\n",
      "        [0.5677, 0.4948, 0.2131, 0.6420]])\n"
     ]
    }
   ],
   "source": [
    "a = torch.rand((3,4))\n",
    "print(a)"
   ]
  },
  {
   "cell_type": "markdown",
   "metadata": {},
   "source": [
    "### Numpy Bridge"
   ]
  },
  {
   "cell_type": "code",
   "execution_count": 5,
   "metadata": {},
   "outputs": [
    {
     "name": "stdout",
     "output_type": "stream",
     "text": [
      "[[0.91055163 0.14150936 0.32507186]\n",
      " [0.35591266 0.51754281 0.27518454]\n",
      " [0.43848364 0.37824601 0.14053193]]\n",
      "tensor([[0.9106, 0.1415, 0.3251],\n",
      "        [0.3559, 0.5175, 0.2752],\n",
      "        [0.4385, 0.3782, 0.1405]], dtype=torch.float64)\n",
      "[[0.91055163 0.14150936 0.32507186]\n",
      " [0.35591266 0.51754281 0.27518454]\n",
      " [0.43848364 0.37824601 0.14053193]]\n"
     ]
    }
   ],
   "source": [
    "import numpy as np\n",
    "\n",
    "#Numpy to Torch\n",
    "a = np.random.random((3,3))\n",
    "print(a)\n",
    "b = torch.from_numpy(a)\n",
    "print(b)\n",
    "\n",
    "#Torch to Numpy\n",
    "c = b.numpy()\n",
    "print(c)"
   ]
  },
  {
   "cell_type": "markdown",
   "metadata": {},
   "source": [
    "### CUDA Tensors"
   ]
  },
  {
   "cell_type": "code",
   "execution_count": 6,
   "metadata": {},
   "outputs": [
    {
     "data": {
      "text/plain": [
       "False"
      ]
     },
     "execution_count": 6,
     "metadata": {},
     "output_type": "execute_result"
    }
   ],
   "source": [
    "torch.cuda.is_available()"
   ]
  },
  {
   "cell_type": "code",
   "execution_count": 7,
   "metadata": {},
   "outputs": [],
   "source": [
    "a = torch.rand(3,3)\n",
    "if torch.cuda.is_available():\n",
    "    device = torch.device(\"cuda\")\n",
    "    a = a.to(device)\n",
    "    # or #\n",
    "    b = torch.rand(3,3, device=device)\n",
    "    \n",
    "    c = a + b\n",
    "    print(c)\n",
    "    # or #\n",
    "    print(c.to(\"cpu\"))"
   ]
  },
  {
   "cell_type": "markdown",
   "metadata": {},
   "source": [
    "### Autograd Mechanics\n",
    "Autograd package provide the automatic differentiation capability to all operations on tensor. It is a define-by-run framework, which means that your backprop is defined by how your code is run, and that every single iteration can be different."
   ]
  },
  {
   "cell_type": "code",
   "execution_count": 8,
   "metadata": {},
   "outputs": [
    {
     "name": "stdout",
     "output_type": "stream",
     "text": [
      "False\n"
     ]
    }
   ],
   "source": [
    "a = torch.rand(3,3)\n",
    "print(a.requires_grad)"
   ]
  },
  {
   "cell_type": "code",
   "execution_count": 9,
   "metadata": {},
   "outputs": [
    {
     "name": "stdout",
     "output_type": "stream",
     "text": [
      "True\n",
      "tensor([[0.1065, 0.1034, 0.1755],\n",
      "        [0.9275, 0.8035, 0.6220],\n",
      "        [0.6818, 0.1374, 0.4339]], requires_grad=True)\n",
      "None\n"
     ]
    }
   ],
   "source": [
    "#Start tracking all operations on the tensor\n",
    "a.requires_grad = True\n",
    "print(a.requires_grad)\n",
    "\n",
    "a = torch.rand((3,3),requires_grad=True)\n",
    "print(a)\n",
    "print(a.grad)"
   ]
  },
  {
   "cell_type": "markdown",
   "metadata": {},
   "source": [
    "#### Computational Graph (DAG)\n",
    "\n",
    "Let's take an example:<br><br>\n",
    "$y = x + 2$ <br>\n",
    "$z = 3y^2$<br>\n",
    "$o = \\frac{1}{4}\\sum_i z_i$<br>\n",
    "\n",
    "Let $x=\n",
    "\\begin{bmatrix}\n",
    "2 & 2\\\\\n",
    "2 & 2\n",
    "\\end{bmatrix}$"
   ]
  },
  {
   "cell_type": "code",
   "execution_count": 9,
   "metadata": {},
   "outputs": [
    {
     "name": "stdout",
     "output_type": "stream",
     "text": [
      "tensor([[2., 2.],\n",
      "        [2., 2.]], requires_grad=True)\n",
      "tensor([[4., 4.],\n",
      "        [4., 4.]], grad_fn=<AddBackward>)\n",
      "tensor([[48., 48.],\n",
      "        [48., 48.]], grad_fn=<MulBackward>) tensor(48., grad_fn=<MeanBackward1>)\n"
     ]
    }
   ],
   "source": [
    "x = torch.tensor([[2.0, 2.0],[2.0, 2.0]], requires_grad=True)\n",
    "print(x)\n",
    "\n",
    "y = x + 2\n",
    "print(y)\n",
    "\n",
    "z = y * y * 3\n",
    "\n",
    "out = z.mean()\n",
    "\n",
    "print(z, out)"
   ]
  },
  {
   "cell_type": "code",
   "execution_count": 10,
   "metadata": {},
   "outputs": [
    {
     "data": {
      "text/plain": [
       "True"
      ]
     },
     "execution_count": 10,
     "metadata": {},
     "output_type": "execute_result"
    }
   ],
   "source": [
    "z.requires_grad"
   ]
  },
  {
   "cell_type": "code",
   "execution_count": 11,
   "metadata": {},
   "outputs": [],
   "source": [
    "#back prop\n",
    "out.backward()"
   ]
  },
  {
   "cell_type": "code",
   "execution_count": 12,
   "metadata": {},
   "outputs": [
    {
     "name": "stdout",
     "output_type": "stream",
     "text": [
      "tensor([[6., 6.],\n",
      "        [6., 6.]])\n"
     ]
    }
   ],
   "source": [
    "print(x.grad)"
   ]
  },
  {
   "cell_type": "code",
   "execution_count": null,
   "metadata": {},
   "outputs": [],
   "source": []
  }
 ],
 "metadata": {
  "kernelspec": {
   "display_name": "Python 3",
   "language": "python",
   "name": "python3"
  },
  "language_info": {
   "codemirror_mode": {
    "name": "ipython",
    "version": 3
   },
   "file_extension": ".py",
   "mimetype": "text/x-python",
   "name": "python",
   "nbconvert_exporter": "python",
   "pygments_lexer": "ipython3",
   "version": "3.6.8"
  },
  "widgets": {
   "state": {},
   "version": "1.1.2"
  }
 },
 "nbformat": 4,
 "nbformat_minor": 2
}
